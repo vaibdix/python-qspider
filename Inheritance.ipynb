{
 "cells": [
  {
   "cell_type": "markdown",
   "metadata": {},
   "source": [
    "############ 22-07-2024 day-6\n",
    "\n",
    "####-----> Inheritance:-\n",
    "\n",
    "# Single level inheritance\n",
    "# Multiple level inheritance\n",
    "# multiple inheritance\n",
    "# Hirarchical Inheritance\n",
    "# Hybrid Inheritance\n"
   ]
  },
  {
   "cell_type": "code",
   "execution_count": 1,
   "metadata": {},
   "outputs": [
    {
     "name": "stdout",
     "output_type": "stream",
     "text": [
      "1000000000000\n",
      "Bike\n"
     ]
    }
   ],
   "source": [
    "### Single level inheritance\n",
    "class Dad:\n",
    "    def Money(self):\n",
    "        print(1000000000000)\n",
    "        # print(dir(Dad))\n",
    "\n",
    "class Son(Dad):\n",
    "    def enjoy(self):\n",
    "        print(\"Bike\")\n",
    "        # print(dir(Son))\n",
    "\n",
    "Son=Son()\n",
    "Son.Money()\n",
    "Son.enjoy()"
   ]
  },
  {
   "cell_type": "code",
   "execution_count": 3,
   "metadata": {},
   "outputs": [
    {
     "name": "stdout",
     "output_type": "stream",
     "text": [
      "villa\n",
      "money\n",
      "Bike\n"
     ]
    }
   ],
   "source": [
    "#### Multi level inheritance\n",
    "class Grandpa:\n",
    "    def Property(self):\n",
    "        print(\"villa\")\n",
    "        # print(dir(Grandpa))\n",
    "\n",
    "class Dad(Grandpa):\n",
    "    def Money(self):\n",
    "        print(\"money\")\n",
    "        # print(dir(Dad))\n",
    "\n",
    "class Son(Dad):\n",
    "    def enjoy(self):\n",
    "        print(\"Bike\")\n",
    "        # print(dir(Son))\n",
    "\n",
    "s=Son()\n",
    "s.Property()\n",
    "s.Money()\n",
    "s.enjoy()"
   ]
  },
  {
   "cell_type": "code",
   "execution_count": 4,
   "metadata": {},
   "outputs": [
    {
     "name": "stdout",
     "output_type": "stream",
     "text": [
      "car\n",
      "farm\n",
      "Bike\n"
     ]
    }
   ],
   "source": [
    "#### Multiple inheritance\n",
    "\n",
    "class Daddy:\n",
    "    def Property(self):\n",
    "        print(\"car\")\n",
    "\n",
    "\n",
    "class Mom:\n",
    "    def Money(self):\n",
    "        print(\"farm\")\n",
    "\n",
    "\n",
    "class Son(Daddy,Mom):\n",
    "    def enjoy(self):\n",
    "        print(\"Bike\")\n",
    "\n",
    "\n",
    "S=Son()\n",
    "S.Property()\n",
    "S.Money()\n",
    "S.enjoy()"
   ]
  },
  {
   "cell_type": "code",
   "execution_count": 5,
   "metadata": {},
   "outputs": [
    {
     "name": "stdout",
     "output_type": "stream",
     "text": [
      "Party mood on\n",
      "100000\n",
      "R15\n",
      "Laica makeup box\n"
     ]
    }
   ],
   "source": [
    "\n",
    "#Hirarchical inheritance\n",
    "class Dad:\n",
    "    money=100000\n",
    "    def Party(self):\n",
    "        print(\"Party mood on\")\n",
    "\n",
    "class Son(Dad):\n",
    "    def Bike(self):\n",
    "        print(\"R15\")\n",
    "\n",
    "class Daughter(Dad):\n",
    "    def Makeup(self):\n",
    "        print(\"Laica makeup box\")\n",
    "z=Dad()\n",
    "z.Party()\n",
    "print(z.money)\n",
    "x=Son()\n",
    "y=Daughter()\n",
    "x.Bike()\n",
    "y.Makeup()"
   ]
  },
  {
   "cell_type": "code",
   "execution_count": 7,
   "metadata": {},
   "outputs": [
    {
     "name": "stdout",
     "output_type": "stream",
     "text": [
      "day1\n",
      "day2\n"
     ]
    }
   ],
   "source": [
    "###### Method Chaining\n",
    "class Student:\n",
    "    def class1(self):\n",
    "        print(\"day1\")\n",
    "\n",
    "class Student2(Student):\n",
    "    def class1(self):\n",
    "        super().class1()\n",
    "        print(\"day2\")\n",
    "\n",
    "Std=Student2()\n",
    "Std.class1()"
   ]
  },
  {
   "cell_type": "markdown",
   "metadata": {},
   "source": [
    "When we want to access parent class in child class we use super()"
   ]
  },
  {
   "cell_type": "code",
   "execution_count": 13,
   "metadata": {},
   "outputs": [
    {
     "name": "stdout",
     "output_type": "stream",
     "text": [
      "Bye class\n",
      "Bye class\n"
     ]
    }
   ],
   "source": [
    "###### Constructor Chaining\n",
    "class Hi:\n",
    "    def __init__(self):\n",
    "        print(\"Hi class\")\n",
    "\n",
    "class Bye(Hi):\n",
    "    def __init__(self):\n",
    "        # super().__init__()\n",
    "        print(\"Bye class\")\n",
    "\n",
    "b=Bye()\n",
    "b.__init__()"
   ]
  },
  {
   "cell_type": "markdown",
   "metadata": {},
   "source": [
    "to access the parent class in child class we use super()"
   ]
  },
  {
   "cell_type": "code",
   "execution_count": 11,
   "metadata": {},
   "outputs": [
    {
     "name": "stdout",
     "output_type": "stream",
     "text": [
      "5 communities 8 chats 5 updates Updates and 3 calls Calls\n"
     ]
    }
   ],
   "source": [
    "#######  ?\n",
    "class Mobile:\n",
    "    def __init__(self,updates,calls):\n",
    "        self.update=updates\n",
    "        self.call=calls\n",
    "\n",
    "class Whatsapp(Mobile):\n",
    "    def __init__(self,communities,chat):\n",
    "        super().__init__(\"5 updates\",\"3 calls\")\n",
    "        self.communities=communities\n",
    "        self.chat=chat\n",
    "\n",
    "    def Details(self):\n",
    "        print(f\"{self.communities} communities {self.chat} chats {self.update} Updates and {self.call} Calls\")\n",
    "\n",
    "App=Whatsapp(5,8)\n",
    "App.Details()"
   ]
  }
 ],
 "metadata": {
  "kernelspec": {
   "display_name": "Python 3",
   "language": "python",
   "name": "python3"
  },
  "language_info": {
   "codemirror_mode": {
    "name": "ipython",
    "version": 3
   },
   "file_extension": ".py",
   "mimetype": "text/x-python",
   "name": "python",
   "nbconvert_exporter": "python",
   "pygments_lexer": "ipython3",
   "version": "3.12.3"
  }
 },
 "nbformat": 4,
 "nbformat_minor": 2
}
