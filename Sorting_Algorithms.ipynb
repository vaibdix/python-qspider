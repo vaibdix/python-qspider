{
  "cells": [
    {
      "cell_type": "code",
      "execution_count": null,
      "metadata": {
        "colab": {
          "base_uri": "https://localhost:8080/"
        },
        "id": "Y7uSsgoLKOMJ",
        "outputId": "68d442c5-3834-4210-cf24-992ec2f35a50"
      },
      "outputs": [
        {
          "data": {
            "text/plain": [
              "[-5, -3, -3, 1, 2, 2, 2, 3, 7]"
            ]
          },
          "execution_count": 3,
          "metadata": {},
          "output_type": "execute_result"
        }
      ],
      "source": [
        "# Bubble Sort\n",
        "# Time: O(n^2)\n",
        "# Space: O(1)\n",
        "\n",
        "A = [-5, 3, 2, 1, -3, -3, 7, 2, 2]\n",
        "\n",
        "def bubble_sort(arr):\n",
        "  n = len(arr)\n",
        "  flag = True\n",
        "  while flag:\n",
        "    flag = False\n",
        "    for i in range(1, n):\n",
        "      if arr[i-1] > arr[i]:\n",
        "        flag = True\n",
        "        arr[i-1], arr[i] = arr[i], arr[i-1]\n",
        "\n",
        "bubble_sort(A)\n",
        "A"
      ]
    }
  ],
  "metadata": {
    "colab": {
      "provenance": []
    },
    "kernelspec": {
      "display_name": "Python 3",
      "name": "python3"
    },
    "language_info": {
      "name": "python"
    }
  },
  "nbformat": 4,
  "nbformat_minor": 0
}
