{
  "cells": [
    {
      "cell_type": "code",
      "execution_count": null,
      "metadata": {
        "colab": {
          "base_uri": "https://localhost:8080/"
        },
        "id": "Y7uSsgoLKOMJ",
        "outputId": "68d442c5-3834-4210-cf24-992ec2f35a50"
      },
      "outputs": [
        {
          "data": {
            "text/plain": [
              "[-5, -3, -3, 1, 2, 2, 2, 3, 7]"
            ]
          },
          "execution_count": 3,
          "metadata": {},
          "output_type": "execute_result"
        }
      ],
      "source": [
        "# Bubble Sort\n",
        "# Time: O(n^2)\n",
        "# Space: O(1)\n",
        "\n",
        "A = [-5, 3, 2, 1, -3, -3, 7, 2, 2]\n",
        "\n",
        "def bubble_sort(arr):\n",
        "  n = len(arr)\n",
        "  flag = True\n",
        "  while flag:\n",
        "    flag = False\n",
        "    for i in range(1, n):\n",
        "      if arr[i-1] > arr[i]:\n",
        "        flag = True\n",
        "        arr[i-1], arr[i] = arr[i], arr[i-1]\n",
        "\n",
        "bubble_sort(A)\n",
        "A"
      ]
    },
    {
      "cell_type": "code",
      "execution_count": 1,
      "metadata": {},
      "outputs": [
        {
          "data": {
            "text/plain": [
              "[-5, -3, -3, 1, 2, 2, 2, 3, 7]"
            ]
          },
          "execution_count": 1,
          "metadata": {},
          "output_type": "execute_result"
        }
      ],
      "source": [
        "# Insertion Sort\n",
        "# Time: O(n^2)\n",
        "# Space: O(1)\n",
        "\n",
        "B = [-5, 3, 2, 1, -3, -3, 7, 2, 2]\n",
        "\n",
        "def insertion_sort(arr):\n",
        "  n = len(arr)\n",
        "  for i in range(1, n):\n",
        "    for j in range(i, 0, -1):\n",
        "      if arr[j-1] > arr[j]:\n",
        "        arr[j-1], arr[j] = arr[j], arr[j-1]\n",
        "      else:\n",
        "        break\n",
        "\n",
        "insertion_sort(B)\n",
        "B"
      ]
    },
    {
      "cell_type": "code",
      "execution_count": 2,
      "metadata": {},
      "outputs": [
        {
          "data": {
            "text/plain": [
              "[-5, -3, -3, 1, 2, 2, 2, 3, 7]"
            ]
          },
          "execution_count": 2,
          "metadata": {},
          "output_type": "execute_result"
        }
      ],
      "source": [
        "# Selection Sort\n",
        "# Time: O(n^2)\n",
        "# Space: O(1)\n",
        "\n",
        "C = [-3, 3, 2, 1, -5, -3, 7, 2, 2]\n",
        "\n",
        "def selection_sort(arr):\n",
        "  n = len(arr)\n",
        "  for i in range(n):\n",
        "    min_index = i\n",
        "    for j in range(i+1, n):\n",
        "      if arr[j] < arr[min_index]:\n",
        "        min_index = j\n",
        "    arr[i], arr[min_index] = arr[min_index], arr[i]\n",
        "\n",
        "selection_sort(C)\n",
        "C"
      ]
    },
    {
      "cell_type": "code",
      "execution_count": null,
      "metadata": {},
      "outputs": [],
      "source": [
        "# Counting Sort\n",
        "# Time: O(n + k) where k is the range of data\n",
        "\n",
        "# Note - This can be written with negative arrays, but we'll stick to positive arrays,\n",
        "# so k is the max of the array\n",
        "\n",
        "# Space: O(k)\n",
        "\n",
        "F = [5, 3, 2, 1, 3, 3, 7, 2, 2]\n",
        "\n",
        "def counting_sort(arr):\n",
        "  n = len(arr)\n",
        "  maxx = max(arr)\n",
        "  counts = [0] * (maxx + 1)\n",
        "\n",
        "  for x in arr:\n",
        "    counts[x] += 1\n",
        "\n",
        "  i = 0\n",
        "  for c in range(maxx + 1):\n",
        "    while counts[c] > 0:\n",
        "      arr[i] = c\n",
        "      i += 1\n",
        "      counts[c] -= 1\n",
        "\n",
        "counting_sort(F)\n",
        "F"
      ]
    }
  ],
  "metadata": {
    "colab": {
      "provenance": []
    },
    "kernelspec": {
      "display_name": "Python 3",
      "name": "python3"
    },
    "language_info": {
      "codemirror_mode": {
        "name": "ipython",
        "version": 3
      },
      "file_extension": ".py",
      "mimetype": "text/x-python",
      "name": "python",
      "nbconvert_exporter": "python",
      "pygments_lexer": "ipython3",
      "version": "3.12.3"
    }
  },
  "nbformat": 4,
  "nbformat_minor": 0
}
