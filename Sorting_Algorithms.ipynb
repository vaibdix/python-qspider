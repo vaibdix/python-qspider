{
  "cells": [
    {
      "cell_type": "code",
      "execution_count": null,
      "metadata": {
        "colab": {
          "base_uri": "https://localhost:8080/"
        },
        "id": "Y7uSsgoLKOMJ",
        "outputId": "68d442c5-3834-4210-cf24-992ec2f35a50"
      },
      "outputs": [
        {
          "data": {
            "text/plain": [
              "[-5, -3, -3, 1, 2, 2, 2, 3, 7]"
            ]
          },
          "execution_count": 3,
          "metadata": {},
          "output_type": "execute_result"
        }
      ],
      "source": [
        "# Bubble Sort\n",
        "# Time: O(n^2)\n",
        "# Space: O(1)\n",
        "\n",
        "A = [-5, 3, 2, 1, -3, -3, 7, 2, 2]\n",
        "\n",
        "def bubble_sort(arr):\n",
        "  n = len(arr)\n",
        "  flag = True\n",
        "  while flag:\n",
        "    flag = False\n",
        "    for i in range(1, n):\n",
        "      if arr[i-1] > arr[i]:\n",
        "        flag = True\n",
        "        arr[i-1], arr[i] = arr[i], arr[i-1]\n",
        "\n",
        "bubble_sort(A)\n",
        "A"
      ]
    },
    {
      "cell_type": "code",
      "execution_count": 1,
      "metadata": {},
      "outputs": [
        {
          "data": {
            "text/plain": [
              "[-5, -3, -3, 1, 2, 2, 2, 3, 7]"
            ]
          },
          "execution_count": 1,
          "metadata": {},
          "output_type": "execute_result"
        }
      ],
      "source": [
        "# Insertion Sort\n",
        "# Time: O(n^2)\n",
        "# Space: O(1)\n",
        "\n",
        "B = [-5, 3, 2, 1, -3, -3, 7, 2, 2]\n",
        "\n",
        "def insertion_sort(arr):\n",
        "  n = len(arr)\n",
        "  for i in range(1, n):\n",
        "    for j in range(i, 0, -1):\n",
        "      if arr[j-1] > arr[j]:\n",
        "        arr[j-1], arr[j] = arr[j], arr[j-1]\n",
        "      else:\n",
        "        break\n",
        "\n",
        "insertion_sort(B)\n",
        "B"
      ]
    }
  ],
  "metadata": {
    "colab": {
      "provenance": []
    },
    "kernelspec": {
      "display_name": "Python 3",
      "name": "python3"
    },
    "language_info": {
      "codemirror_mode": {
        "name": "ipython",
        "version": 3
      },
      "file_extension": ".py",
      "mimetype": "text/x-python",
      "name": "python",
      "nbconvert_exporter": "python",
      "pygments_lexer": "ipython3",
      "version": "3.12.3"
    }
  },
  "nbformat": 4,
  "nbformat_minor": 0
}
